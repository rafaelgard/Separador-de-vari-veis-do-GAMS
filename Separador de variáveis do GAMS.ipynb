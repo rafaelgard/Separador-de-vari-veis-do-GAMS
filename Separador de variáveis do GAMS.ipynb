{
 "cells": [
  {
   "cell_type": "markdown",
   "metadata": {},
   "source": [
    "# Separador de variáveis do GAMS"
   ]
  },
  {
   "cell_type": "markdown",
   "metadata": {},
   "source": [
    "O objetivo deste código é facilitar a construção da lista de variáveis que sejam utilizadas no modelo do Software GAMS.\n",
    "\n",
    "O código importa o código de um arquivo .txt, identifica as variáveis que começam com o caracter inicial da restrição e as separa numa lista já com virgula e espaçamento pronta para ser copiada e colada na secção \"Equations\" no seu código do GAMS."
   ]
  },
  {
   "cell_type": "markdown",
   "metadata": {},
   "source": [
    "### Importando as bibliotecas"
   ]
  },
  {
   "cell_type": "code",
   "execution_count": 52,
   "metadata": {},
   "outputs": [],
   "source": [
    "import pandas as pd\n",
    "import nltk"
   ]
  },
  {
   "cell_type": "markdown",
   "metadata": {},
   "source": [
    "### Importando o código"
   ]
  },
  {
   "cell_type": "code",
   "execution_count": 53,
   "metadata": {},
   "outputs": [
    {
     "name": "stdout",
     "output_type": "stream",
     "text": [
      "                             0\n",
      "0            *Restrição portas\n",
      "1                *dormitório 3\n",
      "2   RPORT1.. y2+y3-y4    =G=3;\n",
      "3                *dormitório 2\n",
      "4   RPORT2.. y2+y3+y5-y6 =G=3;\n",
      "..                         ...\n",
      "82         RP51.. x3=L=1.7*y6;\n",
      "83         RP52.. y6=L=1.7*x3;\n",
      "84        *Restrição retangulo\n",
      "85    RET1.. y2+Y3+y5=E=Y4+Y6;\n",
      "86       RET2.. X1+X2=E=X4+X5;\n",
      "\n",
      "[87 rows x 1 columns]\n"
     ]
    }
   ],
   "source": [
    "#O código importado deve estar num arquivo .txt (bloco de notas) e salvo na mesma pasta deste notebook jupyter\n",
    "\n",
    "#Aqui é apontado o local do arquivo e em seguida ele é importado através do pandas\n",
    "df = pd.read_fwf(\"Código GAMS.txt\",sep=\"..\",encoding='UTF-8',header=None)\n",
    "\n",
    "print(df)"
   ]
  },
  {
   "cell_type": "markdown",
   "metadata": {},
   "source": [
    "### Definindo o primeiro caracter das restrições"
   ]
  },
  {
   "cell_type": "code",
   "execution_count": 54,
   "metadata": {},
   "outputs": [],
   "source": [
    "#Aqui você define o primeiro caracter da restrição.\n",
    "#Você deve alterar manualmente de maneira que ele encontre corretamente as restrições no código\n",
    "Primeiro_caracter_da_restrição=\"R\""
   ]
  },
  {
   "cell_type": "markdown",
   "metadata": {},
   "source": [
    "### Separando o código em palaras únicas"
   ]
  },
  {
   "cell_type": "code",
   "execution_count": 55,
   "metadata": {},
   "outputs": [],
   "source": [
    "#Transforma o código em uma lista\n",
    "df=df.values.tolist()"
   ]
  },
  {
   "cell_type": "code",
   "execution_count": 56,
   "metadata": {},
   "outputs": [
    {
     "name": "stdout",
     "output_type": "stream",
     "text": [
      "Lista de palavras:\n",
      "['[', '[', \"'\", '*', 'Restrição', 'portas', \"'\", ']', ',', '[', \"'\", '*', 'dormitório', '3', \"'\", ']', ',', '[', \"'RPORT1\", '..', 'y2+y3-y4', '=G=3', ';', \"'\", ']', ',', '[', \"'\", '*', 'dormitório', '2', \"'\", ']', ',', '[', \"'RPORT2\", '..', 'y2+y3+y5-y6', '=G=3', ';', \"'\", ']', ',', '[', \"'\", '*', 'Restrição', 'comprimentos', \"'\", ']', ',', '[', \"'\", '*', 'comprimento', 'sala', \"'\", ']', ',', '[', \"'R1CI\", '..', 'x1=G=8', ';', \"'\", ']', ',', '[', \"'R1CS\", '..', 'x1=L=20', ';', \"'\", ']', ',', '[', \"'\", '*', 'comprimento', 'banheiro', \"'\", ']', ',', '[', \"'R2CI\", '..', 'x2=G=5', ';', \"'\", ']', ',', '[', \"'R2CS\", '..', 'x2=L=7', ';', \"'\", ']', ',', '[', \"'\", '*', 'comprimento', 'cozinha', \"'\", ']', ',', '[', \"'R4CI\", '..', 'x4=G=6', ';', \"'\", ']', ',', '[', \"'R4CS\", '..', 'x4=L=18', ';', \"'\", ']', ',', '[', \"'\", '*', 'comprimento', 'dorm', '1', \"'\", ']', ',', '[', \"'R5CI\", '..', 'x5=G=9', ';', \"'\", ']', ',', '[', \"'R5CS\", '..', 'x5=L=25', ';', \"'\", ']', ',', '[', \"'\", '*', 'comprimento', 'dorm', '2', \"'\", ']', ',', '[', \"'R6CI\", '..', 'x3=G=10', ';', \"'\", ']', ',', '[', \"'R6CS\", '..', 'x3=L=23', ';', \"'\", ']', ',', '[', \"'\", '*', 'comprimento', 'dorm', '3', \"'\", ']', ',', '[', \"'R7CI\", '..', 'x3=G=9', ';', \"'\", ']', ',', '[', \"'R7CS\", '..', 'x3=L=19', ';', \"'\", ']', ',', '[', \"'\", '*', 'comprimento', 'hall', \"'\", ']', ',', '[', \"'R8CI\", '..', 'x2=G=4', ';', \"'\", ']', ',', '[', \"'R8CS\", '..', 'x2=L=15', ';', \"'\", ']', ',', '[', \"'\", '*', 'Restrição', 'larguras', \"'\", ']', ',', '[', \"'\", '*', 'largura', 'sala', \"'\", ']', ',', '[', \"'R9I\", '..', 'y2+y3=G=8', ';', \"'\", ']', ',', '[', \"'R9S\", '..', 'y2+y3=L=20', ';', \"'\", ']', ',', '[', \"'\", '*', 'largura', 'banheiro', \"'\", ']', ',', '[', \"'R10I\", '..', 'y2=G=7', ';', \"'\", ']', ',', '[', \"'R10S\", '..', 'y2=L=9', ';', \"'\", ']', ',', '[', \"'\", '*', 'largura', 'cozinha', \"'\", ']', ',', '[', \"'R11I\", '..', 'y5=G=6', ';', \"'\", ']', ',', '[', \"'R11S\", '..', 'y5=L=18', ';', \"'\", ']', ',', '[', \"'\", '*', 'largura', 'dorm', '1', \"'\", ']', ',', '[', \"'R12I\", '..', 'y5=G=9', ';', \"'\", ']', ',', '[', \"'R12S\", '..', 'y5=L=25', ';', \"'\", ']', ',', '[', \"'\", '*', 'largura', 'dorm', '2', \"'\", ']', ',', '[', \"'R13I\", '..', 'y4=G=10', ';', \"'\", ']', ',', '[', \"'R13S\", '..', 'y4=L=23', ';', \"'\", ']', ',', '[', \"'\", '*', 'largura', 'dorm', '3', \"'\", ']', ',', '[', \"'R14I\", '..', 'y6=G=8', ';', \"'\", ']', ',', '[', \"'R14S\", '..', 'y6=L=20', ';', \"'\", ']', ',', '[', \"'\", '*', 'largura', 'hall', \"'\", ']', ',', '[', \"'R15I\", '..', 'y3=G=4', ';', \"'\", ']', ',', '[', \"'R15S\", '..', 'y3=L=9', ';', \"'\", ']', ',', '[', \"'\", '*', 'Restrição', 'áreas', \"'\", ']', ',', '[', \"'\", '*', 'área', 'sala', \"'\", ']', ',', '[', \"'R16I\", '..', 'x1', '*', '(', 'y2+y3', ')', '=G=100', ';', \"'\", ']', ',', '[', \"'R16S\", '..', 'x1', '*', '(', 'y2+y3', ')', '=L=300', ';', \"'\", ']', ',', '[', \"'\", '*', 'área', 'cozinha', \"'\", ']', ',', '[', \"'R17I\", '..', 'x4', '*', 'y5=G=50', ';', \"'\", ']', ',', '[', \"'R17S\", '..', 'x4', '*', 'y5=L=120', ';', \"'\", ']', ',', '[', \"'\", '*', 'área', 'dorm.1', \"'\", ']', ',', '[', \"'R18I\", '..', 'x5', '*', 'y5=G=100', ';', \"'\", ']', ',', '[', \"'R18S\", '..', 'x5', '*', 'y5=L=180', ';', \"'\", ']', ',', '[', \"'\", '*', 'área', 'dorm.2', \"'\", ']', ',', '[', \"'R19I\", '..', 'x3', '*', 'y4=G=130', ';', \"'\", ']', ',', '[', \"'R19S\", '..', 'x3', '*', 'y4=L=220', ';', \"'\", ']', ',', '[', \"'\", '*', 'área', 'dorm.3', \"'\", ']', ',', '[', \"'R20I\", '..', 'x3', '*', 'y6=G=100', ';', \"'\", ']', ',', '[', \"'R20S\", '..', 'x3', '*', 'y6=L=180', ';', \"'\", ']', ',', '[', \"'\", '*', 'área', 'hall', \"'\", ']', ',', '[', \"'R21I\", '..', 'x2', '*', 'y3=G=30', ';', \"'\", ']', ',', '[', \"'R21S\", '..', 'x2', '*', 'y3=L=80', ';', \"'\", ']', ',', '[', \"'\", '*', 'área', 'banheiro', \"'\", ']', ',', '[', \"'R22I\", '..', 'x2', '*', 'y2=G=40', ';', \"'\", ']', ',', '[', \"'R22S\", '..', 'x2', '*', 'y2=L=120', ';', \"'\", ']', ',', '[', \"'\", '*', 'Restrição', 'proporção', \"'\", ']', ',', '[', \"'\", '*', 'sala', \"'\", ']', ',', '[', \"'RP11\", '..', 'x1=L=1.5', '*', '(', 'y2+y3', ')', ';', \"'\", ']', ',', '[', \"'RP12\", '..', 'y2+y3=L=1.5', '*', 'x1', ';', \"'\", ']', ',', '[', \"'\", '*', 'dorm1', \"'\", ']', ',', '[', \"'RP31\", '..', 'x5=L=1.5', '*', 'y5', ';', \"'\", ']', ',', '[', \"'RP32\", '..', 'y5=L=1.5', '*', 'x5', ';', \"'\", ']', ',', '[', \"'\", '*', 'dorm2', \"'\", ']', ',', '[', \"'RP41\", '..', 'x3=L=1.7', '*', 'y4', ';', \"'\", ']', ',', '[', \"'RP42\", '..', 'y4=L=1.7', '*', 'x3', ';', \"'\", ']', ',', '[', \"'\", '*', 'dorm3', \"'\", ']', ',', '[', \"'RP51\", '..', 'x3=L=1.7', '*', 'y6', ';', \"'\", ']', ',', '[', \"'RP52\", '..', 'y6=L=1.7', '*', 'x3', ';', \"'\", ']', ',', '[', \"'\", '*', 'Restrição', 'retangulo', \"'\", ']', ',', '[', \"'RET1\", '..', 'y2+Y3+y5=E=Y4+Y6', ';', \"'\", ']', ',', '[', \"'RET2\", '..', 'X1+X2=E=X4+X5', ';', \"'\", ']', ']']\n",
      "Wall time: 18 ms\n"
     ]
    }
   ],
   "source": [
    "%%time\n",
    "#Separa em frases\n",
    "tokenized_text=nltk.sent_tokenize(str(df))\n",
    "\n",
    "#Separa em palavras\n",
    "tokenized_word=nltk.word_tokenize(str(df))\n",
    "\n",
    "#Cria a lista de palavras\n",
    "lista_de_palavras=tokenized_word\n",
    "\n",
    "print(\"Lista de palavras:\")\n",
    "print(lista_de_palavras)"
   ]
  },
  {
   "cell_type": "code",
   "execution_count": 57,
   "metadata": {},
   "outputs": [
    {
     "name": "stdout",
     "output_type": "stream",
     "text": [
      "RPOR\n",
      "RPOR\n",
      "R1CI\n",
      "R1CS\n",
      "R2CI\n",
      "R2CS\n",
      "R4CI\n",
      "R4CS\n",
      "R5CI\n",
      "R5CS\n",
      "R6CI\n",
      "R6CS\n",
      "R7CI\n",
      "R7CS\n",
      "R8CI\n",
      "R8CS\n",
      "R9I\n",
      "R9S\n",
      "R10I\n",
      "R10S\n",
      "R11I\n",
      "R11S\n",
      "R12I\n",
      "R12S\n",
      "R13I\n",
      "R13S\n",
      "R14I\n",
      "R14S\n",
      "R15I\n",
      "R15S\n",
      "R16I\n",
      "R16S\n",
      "R17I\n",
      "R17S\n",
      "R18I\n",
      "R18S\n",
      "R19I\n",
      "R19S\n",
      "R20I\n",
      "R20S\n",
      "R21I\n",
      "R21S\n",
      "R22I\n",
      "R22S\n",
      "RP11\n",
      "RP12\n",
      "RP31\n",
      "RP32\n",
      "RP41\n",
      "RP42\n",
      "RP51\n",
      "RP52\n",
      "RET1\n",
      "RET2\n",
      "Foram encontradas:  54  variáveis\n"
     ]
    }
   ],
   "source": [
    "#Separa da lista as palavras que são restrições iniciadas com o 1º caracter da restrição definido no início do código\n",
    "i=0\n",
    "contador=0\n",
    "\n",
    "while i<len(lista_de_palavras):        \n",
    "    x=lista_de_palavras[i]\n",
    "    if x[1:2]==Primeiro_caracter_da_restrição:\n",
    "        print(x[1:5])\n",
    "        if contador==0:\n",
    "            lista_das_variaveis=x[1:5]\n",
    "        else:\n",
    "            lista_das_variaveis=lista_das_variaveis+\", \"+x[1:5]\n",
    "        \n",
    "        contador=contador+1\n",
    "    i=i+1  \n",
    "print(\"Foram encontradas: \", contador,\" variáveis\")"
   ]
  },
  {
   "cell_type": "markdown",
   "metadata": {},
   "source": [
    "### Imprimindo as variáveis em forma de lista já com virgula e espaçamento"
   ]
  },
  {
   "cell_type": "code",
   "execution_count": 58,
   "metadata": {},
   "outputs": [
    {
     "name": "stdout",
     "output_type": "stream",
     "text": [
      "A lista contem: 54  variáveis\n",
      "\n",
      "RPOR, RPOR, R1CI, R1CS, R2CI, R2CS, R4CI, R4CS, R5CI, R5CS, R6CI, R6CS, R7CI, R7CS, R8CI, R8CS, R9I, R9S, R10I, R10S, R11I, R11S, R12I, R12S, R13I, R13S, R14I, R14S, R15I, R15S, R16I, R16S, R17I, R17S, R18I, R18S, R19I, R19S, R20I, R20S, R21I, R21S, R22I, R22S, RP11, RP12, RP31, RP32, RP41, RP42, RP51, RP52, RET1, RET2\n"
     ]
    }
   ],
   "source": [
    "print(\"A lista contem:\", contador,\" variáveis\\n\")\n",
    "print(lista_das_variaveis)"
   ]
  },
  {
   "cell_type": "code",
   "execution_count": null,
   "metadata": {},
   "outputs": [],
   "source": []
  }
 ],
 "metadata": {
  "kernelspec": {
   "display_name": "Python 3",
   "language": "python",
   "name": "python3"
  },
  "language_info": {
   "codemirror_mode": {
    "name": "ipython",
    "version": 3
   },
   "file_extension": ".py",
   "mimetype": "text/x-python",
   "name": "python",
   "nbconvert_exporter": "python",
   "pygments_lexer": "ipython3",
   "version": "3.8.3"
  }
 },
 "nbformat": 4,
 "nbformat_minor": 4
}
